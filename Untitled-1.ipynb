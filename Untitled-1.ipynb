{
 "cells": [
  {
   "cell_type": "code",
   "execution_count": null,
   "metadata": {},
   "outputs": [],
   "source": [
    "def run_quiz(Questions):\n",
    "    score = 0\n",
    "    for question in Questions:\n",
    "        print(question[\"prompt\"])\n",
    "        for option in question[\"options\"]:\n",
    "            print(option)\n",
    "        answer = input(\"Enter your Answer, (A,B,C or D): \")\n",
    "        if answer == question[\"answer\"]:\n",
    "            print(\"hmm....Not bad\")\n",
    "            score += 1\n",
    "        else:\n",
    "            print(\"Is you dumb?\")\n",
    "\n",
    "    print(f\"You got {score} out of 4\")\n",
    "\n",
    "\n",
    "Questions = [\n",
    "    {\n",
    "        \"prompt\": \"What is the capital of France?\",\n",
    "        \"options\": [\"A. Paris\", \"B. London\", \"C. Rome\", \"D. Madrid\"],\n",
    "        \"answer\": \"A\"\n",
    "    },\n",
    "    {\n",
    "        \"prompt\": \"Which planet is known as the Red Planet?\",\n",
    "        \"options\": [\"A. Venus\", \"B. Mars\", \"C. Jupiter\", \"D. Saturn\"],\n",
    "        \"answer\": \"B\"\n",
    "    },\n",
    "    # Add more questions here\n",
    "]\n",
    "\n",
    "run_quiz(Questions)\n"
   ]
  },
  {
   "cell_type": "code",
   "execution_count": null,
   "metadata": {},
   "outputs": [],
   "source": []
  }
 ],
 "metadata": {
  "language_info": {
   "name": "python"
  }
 },
 "nbformat": 4,
 "nbformat_minor": 2
}
